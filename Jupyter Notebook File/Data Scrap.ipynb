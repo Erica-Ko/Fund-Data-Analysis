{
 "cells": [
  {
   "cell_type": "code",
   "execution_count": 1,
   "metadata": {},
   "outputs": [
    {
     "name": "stdout",
     "output_type": "stream",
     "text": [
      "Collecting selenium\n",
      "  Downloading selenium-3.141.0-py2.py3-none-any.whl (904 kB)\n",
      "Requirement already satisfied: urllib3 in c:\\users\\wmkoa\\anaconda3\\lib\\site-packages (from selenium) (1.25.8)\n",
      "Installing collected packages: selenium\n",
      "Successfully installed selenium-3.141.0\n"
     ]
    }
   ],
   "source": [
    "# ! pip install selenium"
   ]
  },
  {
   "cell_type": "code",
   "execution_count": 40,
   "metadata": {},
   "outputs": [],
   "source": [
    "from selenium import webdriver\n",
    "from selenium.webdriver.chrome.options import Options\n",
    "from selenium.webdriver.support.ui import Select\n",
    "import time\n",
    "import random\n",
    "import os\n",
    "\n",
    "global base_path\n",
    "base_path = r\"C:\\Users\\wmkoa\\Downloads\\Fund data\""
   ]
  },
  {
   "cell_type": "code",
   "execution_count": 48,
   "metadata": {},
   "outputs": [],
   "source": [
    "def sort_file():\n",
    "  # 排序文件\n",
    "    dir_link = base_path\n",
    "    dir_lists = list(filter(check_file, os.listdir(dir_link)))\n",
    "    if len(dir_lists) == 0:\n",
    "        return ''\n",
    "    else:\n",
    "        dir_lists.sort(key=lambda fn: os.path.getmtime(dir_link + os.sep + fn))\n",
    "        return os.path.join(base_path, dir_lists[-1])\n",
    " \n",
    " \n",
    "def check_file(filename):\n",
    "    # 忽略系统文件\n",
    "    if filename.endswith('.tmp'):\n",
    "    # if filename == '.DS_Store' or filename == 'thumbs.db':\n",
    "      return False\n",
    "    # 排除文件夹\n",
    "    return os.path.isfile(os.path.join(base_path, filename))"
   ]
  },
  {
   "cell_type": "code",
   "execution_count": 82,
   "metadata": {},
   "outputs": [
    {
     "name": "stderr",
     "output_type": "stream",
     "text": [
      "C:\\Users\\wmkoa\\anaconda3\\lib\\site-packages\\ipykernel_launcher.py:7: DeprecationWarning: use options instead of chrome_options\n",
      "  import sys\n"
     ]
    },
    {
     "name": "stdout",
     "output_type": "stream",
     "text": [
      "22\n",
      "25\n"
     ]
    }
   ],
   "source": [
    "options = Options()\n",
    "options.add_argument(\"--disable-notifications\")\n",
    "options.add_argument(\"--incognito\")\n",
    "prefs = {\"download.default_directory\": base_path, \"profile.default_content_setting_values.automatic_downloads\":1}\n",
    "options.add_experimental_option('prefs',prefs)\n",
    "\n",
    "driver = webdriver.Chrome('./chromedriver', chrome_options=options)\n",
    "driver.get(\"https://www3.aia-pt.com.hk/mpf/public/fundperf/fundprices.jspa?mt=MT3\")\n",
    "\n",
    "count_years = 0\n",
    "select = Select(driver.find_element_by_name('clid:export.fromDateYMD.year:IA==:IA==:0'))\n",
    "for element in select.options:\n",
    "    count_years += 1\n",
    "    \n",
    "count_funds = 0\n",
    "select = Select(driver.find_element_by_name('clid:export.id:IA==:IA==:0'))\n",
    "for element in select.options:\n",
    "    count_funds += 1\n",
    "    \n",
    "print(count_years)\n",
    "print(count_funds)\n",
    "\n",
    "# for i1 in range(1,count_funds):\n",
    "\n",
    "# Select funds total: 25 (need to improve)\n",
    "fund_number = 7\n",
    "select = Select(driver.find_element_by_name('clid:export.id:IA==:IA==:0'))\n",
    "select.select_by_index(fund_number)\n",
    "fundname = select.options[fund_number].text.strip()\n",
    "\n",
    "for i2 in range(1, count_years):\n",
    "\n",
    "    # Input from day\n",
    "    select = Select(driver.find_element_by_name('clid:export.fromDateYMD.day:IA==:IA==:0'))\n",
    "    select.select_by_index(1)\n",
    "\n",
    "\n",
    "    select = Select(driver.find_element_by_name('clid:export.fromDateYMD.month:IA==:IA==:0'))\n",
    "    select.select_by_index(1)\n",
    "\n",
    "\n",
    "    select = Select(driver.find_element_by_name('clid:export.fromDateYMD.year:IA==:IA==:0'))\n",
    "    select.select_by_index(i2)\n",
    "    cur_year = int(select.options[i2].text.strip())+1\n",
    "\n",
    "    #Input to day\n",
    "    select = Select(driver.find_element_by_name('clid:export.toDateYMD.day:IA==:IA==:0'))\n",
    "    select.select_by_index(31)\n",
    "\n",
    "\n",
    "    select = Select(driver.find_element_by_name('clid:export.toDateYMD.month:IA==:IA==:0'))\n",
    "    select.select_by_index(12)\n",
    "\n",
    "\n",
    "    select = Select(driver.find_element_by_name('clid:export.toDateYMD.year:IA==:IA==:0'))\n",
    "    select.select_by_index(i2)\n",
    "\n",
    "    time.sleep(random.uniform(0.5, 2))\n",
    "\n",
    "    submit_btn = driver.find_elements_by_xpath(\"//input[@name='submit1']\")[1]\n",
    "    driver.execute_script(\"arguments[0].click();\", submit_btn)\n",
    "    \n",
    "    old_file = sort_file()\n",
    "    new_file = os.path.join(base_path, str(f\"{fundname}_{cur_year}0101_{cur_year}1231.csv\"))\n",
    "    # os.rename(newest_file, f\"{fundname}_{i2}0101_{i2}1231\")\n",
    "    try:\n",
    "        os.renames(old_file, new_file)\n",
    "    except:\n",
    "        random_num_for_file = random.random()\n",
    "        new_file = os.path.join(base_path, str(f\"{fundname}_{cur_year}0101_{cur_year}1231({random_num_for_file}).csv\"))\n",
    "        os.renames(old_file, new_file)\n",
    "    # driver.quit()"
   ]
  },
  {
   "cell_type": "code",
   "execution_count": 12,
   "metadata": {},
   "outputs": [
    {
     "name": "stdout",
     "output_type": "stream",
     "text": [
      "['export (1).csv', 'export.csv']\n"
     ]
    },
    {
     "data": {
      "text/plain": [
       "str"
      ]
     },
     "execution_count": 12,
     "metadata": {},
     "output_type": "execute_result"
    }
   ],
   "source": [
    "dir_link = base_path\n",
    "dir_lists = list(os.listdir(dir_link))\n",
    "print(dir_lists)\n",
    "type(dir_lists[-1])"
   ]
  },
  {
   "cell_type": "code",
   "execution_count": null,
   "metadata": {},
   "outputs": [],
   "source": []
  }
 ],
 "metadata": {
  "kernelspec": {
   "display_name": "Python 3",
   "language": "python",
   "name": "python3"
  },
  "language_info": {
   "codemirror_mode": {
    "name": "ipython",
    "version": 3
   },
   "file_extension": ".py",
   "mimetype": "text/x-python",
   "name": "python",
   "nbconvert_exporter": "python",
   "pygments_lexer": "ipython3",
   "version": "3.7.6"
  }
 },
 "nbformat": 4,
 "nbformat_minor": 4
}
